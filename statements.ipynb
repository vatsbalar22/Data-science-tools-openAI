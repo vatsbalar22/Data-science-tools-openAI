{
  "nbformat": 4,
  "nbformat_minor": 0,
  "metadata": {
    "colab": {
      "provenance": [],
      "authorship_tag": "ABX9TyNcUPdWlT+aHoxNiMqxLrpl",
      "include_colab_link": true
    },
    "kernelspec": {
      "name": "python3",
      "display_name": "Python 3"
    },
    "language_info": {
      "name": "python"
    }
  },
  "cells": [
    {
      "cell_type": "markdown",
      "metadata": {
        "id": "view-in-github",
        "colab_type": "text"
      },
      "source": [
        "<a href=\"https://colab.research.google.com/github/vatsbalar22/Data-science-tools/blob/main/statements.ipynb\" target=\"_parent\"><img src=\"https://colab.research.google.com/assets/colab-badge.svg\" alt=\"Open In Colab\"/></a>"
      ]
    },
    {
      "cell_type": "markdown",
      "source": [
        "## Start from hello"
      ],
      "metadata": {
        "id": "e0XXmLFk09rs"
      }
    },
    {
      "cell_type": "code",
      "execution_count": 1,
      "metadata": {
        "colab": {
          "base_uri": "https://localhost:8080/"
        },
        "id": "NupGBET6xzV_",
        "outputId": "2490c2b8-eaad-4694-cc68-99729a314d04"
      },
      "outputs": [
        {
          "output_type": "stream",
          "name": "stdout",
          "text": [
            "vats\n"
          ]
        }
      ],
      "source": [
        "print('vats')"
      ]
    },
    {
      "cell_type": "markdown",
      "source": [
        "## Dict to for"
      ],
      "metadata": {
        "id": "yafxMYDB080E"
      }
    },
    {
      "cell_type": "code",
      "source": [
        "my_dict = {1:'vats',2:'shubham'}\n",
        "type(my_dict)"
      ],
      "metadata": {
        "colab": {
          "base_uri": "https://localhost:8080/"
        },
        "id": "o9X5DvNK1JI4",
        "outputId": "b87a8eda-96ad-4560-ef35-7ff31ad60f48"
      },
      "execution_count": 2,
      "outputs": [
        {
          "output_type": "execute_result",
          "data": {
            "text/plain": [
              "dict"
            ]
          },
          "metadata": {},
          "execution_count": 2
        }
      ]
    },
    {
      "cell_type": "code",
      "source": [
        "my_dict[2]"
      ],
      "metadata": {
        "colab": {
          "base_uri": "https://localhost:8080/",
          "height": 36
        },
        "id": "lJqYfp4X1RhF",
        "outputId": "ebc3577f-ba8f-4a71-f994-5c1e2db7a245"
      },
      "execution_count": 5,
      "outputs": [
        {
          "output_type": "execute_result",
          "data": {
            "text/plain": [
              "'shubham'"
            ],
            "application/vnd.google.colaboratory.intrinsic+json": {
              "type": "string"
            }
          },
          "metadata": {},
          "execution_count": 5
        }
      ]
    },
    {
      "cell_type": "code",
      "source": [
        "for key , value in my_dict.items() :\n",
        "  print(f'this is my er.no : {key} and my name is {value}')"
      ],
      "metadata": {
        "colab": {
          "base_uri": "https://localhost:8080/"
        },
        "id": "2f_XEsxJ1V9J",
        "outputId": "c1362f0c-26d2-454a-bc56-9b08b0e12bb2"
      },
      "execution_count": 8,
      "outputs": [
        {
          "output_type": "stream",
          "name": "stdout",
          "text": [
            "this is my er.no : 1 and my name is vats\n",
            "this is my er.no : 2 and my name is shubham\n"
          ]
        }
      ]
    },
    {
      "cell_type": "code",
      "source": [],
      "metadata": {
        "id": "Kq5KwkOd1sCy"
      },
      "execution_count": null,
      "outputs": []
    }
  ]
}